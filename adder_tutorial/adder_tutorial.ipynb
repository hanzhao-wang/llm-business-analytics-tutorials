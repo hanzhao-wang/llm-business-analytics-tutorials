{
 "cells": [
  {
   "cell_type": "markdown",
   "metadata": {},
   "source": [
    "# Tutorial 2: GPT-Adder - Learning Arithmetic with Complete Input\n",
    "\n",
    "Welcome to the GPT-Adder tutorial! In this version, we train a transformer model to perform addition where:\n",
    "- **Input (X)**: Complete question like \"2+3=\"\n",
    "- **Output (Y)**: Single predicted answer like \"5\"\n",
    "\n",
    "This is different from the original autoregressive word-by-word prediction for NLP. Instead, we treat this as a sequence-to-single-token prediction task.\n",
    "\n",
    "**Goal:** Train a transformer to map complete addition questions to single numeric answers.\n",
    "\n",
    "- Input X is the full question \"a+b=\"\n",
    "- Output Y is a single token representing the answer\n",
    "- We'll use a classification approach where each possible answer is a class\n",
    "- Model architecture includes a classification head"
   ]
  },
  {
   "cell_type": "code",
   "execution_count": 1,
   "metadata": {},
   "outputs": [
    {
     "data": {
      "text/plain": [
       "<torch._C.Generator at 0x118142b70>"
      ]
     },
     "execution_count": 1,
     "metadata": {},
     "output_type": "execute_result"
    }
   ],
   "source": [
    "import torch\n",
    "import torch.nn as nn\n",
    "from torch.nn import functional as F\n",
    "from transformers import GPT2Config, GPT2Model\n",
    "import random\n",
    "import numpy as np\n",
    "\n",
    "# For reproducibility\n",
    "random.seed(42)\n",
    "np.random.seed(42)\n",
    "torch.manual_seed(42)"
   ]
  },
  {
   "cell_type": "markdown",
   "metadata": {},
   "source": [
    "## 2. Configuration"
   ]
  },
  {
   "cell_type": "code",
   "execution_count": 2,
   "metadata": {},
   "outputs": [],
   "source": [
    "# Hyperparameters\n",
    "batch_size = 32     # How many independent sequences will we process in parallel to speed up the training process\n",
    "max_iters = 5000       # Iteration of training \n",
    "eval_interval = 250    # Interval of evaluation\n",
    "learning_rate = 1e-3   # Learning rate for the optimizer\n",
    "device = 'cpu'         # The device to run the model on\n",
    "eval_iters = 500       # The number of iterations to evaluate the model\n",
    "n_embd = 128           # The number of embedding dimensions\n",
    "n_head = 4             # The number of attention heads\n",
    "n_layer = 4            # The number of layers\n",
    "dropout = 0.1          # Dropout rate, this is to prevent overfitting"
   ]
  },
  {
   "cell_type": "code",
   "execution_count": 3,
   "metadata": {},
   "outputs": [
    {
     "name": "stdout",
     "output_type": "stream",
     "text": [
      "Maximum possible answer: 198\n",
      "Number of answer classes: 199\n"
     ]
    }
   ],
   "source": [
    "# Parameters for data generation\n",
    "ndigit = 2  # Up to 2-digit numbers (0-99)\n",
    "\n",
    "# We can view the adding problem as a classification problem, where the question is the input and the answer is the class label.\n",
    "# Calculate maximum possible answer for classification\n",
    "max_answer = (10**ndigit - 1) + (10**ndigit - 1)  # e.g., 99+99=198 for ndigit=2\n",
    "num_answer_classes = max_answer + 1  # 0 to max_answer inclusive\n",
    "\n",
    "print(f\"Maximum possible answer: {max_answer}\")\n",
    "print(f\"Number of answer classes: {num_answer_classes}\")"
   ]
  },
  {
   "cell_type": "markdown",
   "metadata": {},
   "source": [
    "#### Explanation: Maximum Possible Answer and Classification\n",
    "\n",
    "In this tutorial, we are framing the addition problem \"a+b=\" as a **classification task**. This means the model's goal is not to generate the sequence of digits for the answer, but to predict which *single class* the answer belongs to.\n",
    "\n",
    "Think of it like image classification where a model predicts if an image is a \"cat,\" \"dog,\" or \"bird.\" Here, our \"classes\" are all the possible numerical answers the addition problems can produce.\n",
    "\n",
    "1.  **Defining the Classes:**\n",
    "    Since our input numbers `a` and `b` are limited by `ndigit` (e.g., for `ndigit=2`, numbers range from 0 to 99), there's a maximum possible sum.\n",
    "    - If `ndigit=2`, the largest sum is 99 + 99 = 198.\n",
    "    - The smallest sum is 0 + 0 = 0.\n",
    "    So, all possible answers lie in the range \\[0, 198].\n",
    "\n",
    "2.  **`num_answer_classes`:**\n",
    "    Each unique integer answer in this range becomes a distinct \"class\" for our model.\n",
    "    - `max_answer = (10**ndigit - 1) + (10**ndigit - 1)` calculates this maximum sum.\n",
    "    - `num_answer_classes = max_answer + 1` determines the total number of unique classes (from 0 up to `max_answer`, inclusive). For `ndigit=2`, this is 198 + 1 = 199 classes.\n",
    "\n",
    "3.  **Why Classification?**\n",
    "    By treating this as a classification problem:\n",
    "    - The model's output layer (the \"classification head\") will have `num_answer_classes` neurons.\n",
    "    - Each neuron corresponds to one possible sum (e.g., neuron 0 for answer \"0\", neuron 1 for answer \"1\", ..., neuron 198 for answer \"198\").\n",
    "    - The model will output a probability distribution over these classes, and the class with the highest probability is chosen as the predicted answer.\n",
    "    - We use `CrossEntropyLoss`, which is standard for classification tasks.\n",
    "\n",
    "This approach simplifies the problem compared to generating an answer character by character, especially since the output (the sum) is a single entity. The model just needs to learn to map the input question sequence to the correct answer \"bucket\" or class."
   ]
  },
  {
   "cell_type": "markdown",
   "metadata": {},
   "source": [
    "## 3. Data Preparation\n",
    "\n",
    "### 3.1 Vocabulary and Tokenization"
   ]
  },
  {
   "cell_type": "code",
   "execution_count": 4,
   "metadata": {},
   "outputs": [
    {
     "name": "stdout",
     "output_type": "stream",
     "text": [
      "Input vocabulary: '0123456789+= '\n",
      "Input vocabulary size: 13\n",
      "Original question: '2+3='\n",
      "Encoded: [2, 10, 3, 11]\n",
      "Decoded: '2+3='\n"
     ]
    }
   ],
   "source": [
    "#We can view each character as a token, and the input is a sequence of tokens.\n",
    "input_chars = '0123456789+= '  # Added space at the end for padding (will be explained later)\n",
    "input_vocab_size = len(input_chars)\n",
    "print(f\"Input vocabulary: '{input_chars}'\")\n",
    "print(f\"Input vocabulary size: {input_vocab_size}\")\n",
    "\n",
    "# Create mappings for input\n",
    "input_stoi = {ch: i for i, ch in enumerate(input_chars)} #mapping from input elements to index\n",
    "input_itos = {i: ch for i, ch in enumerate(input_chars)} #mapping from index to input elements\n",
    "\n",
    "def encode_input(s):\n",
    "    return [input_stoi[c] for c in s] #encode the input string into a list of indices\n",
    "\n",
    "def decode_input(l):\n",
    "    return ''.join([input_itos[i] for i in l]) #decode the list of indices into a string\n",
    "\n",
    "# Test encoding/decoding\n",
    "test_question = \"2+3=\"\n",
    "encoded_test = encode_input(test_question)\n",
    "decoded_test = decode_input(encoded_test)\n",
    "print(f\"Original question: '{test_question}'\")\n",
    "print(f\"Encoded: {encoded_test}\")\n",
    "print(f\"Decoded: '{decoded_test}'\")"
   ]
  },
  {
   "cell_type": "markdown",
   "metadata": {},
   "source": [
    "### 3.2 Data Generation"
   ]
  },
  {
   "cell_type": "code",
   "execution_count": 5,
   "metadata": {},
   "outputs": [
    {
     "name": "stdout",
     "output_type": "stream",
     "text": [
      "Sample problems:\n",
      "Question: '81+14=' -> Answer: 95\n",
      "Question: '3+94=' -> Answer: 97\n",
      "Question: '35+31=' -> Answer: 66\n",
      "Question: '28+17=' -> Answer: 45\n",
      "Question: '94+13=' -> Answer: 107\n"
     ]
    }
   ],
   "source": [
    "def generate_addition_data(num_digits):\n",
    "    \"\"\"Generate a single addition problem and answer.\"\"\"\n",
    "    a = random.randint(0, 10**num_digits - 1)\n",
    "    b = random.randint(0, 10**num_digits - 1)\n",
    "    c = a + b\n",
    "    question = f\"{a}+{b}=\"\n",
    "    answer = c  # Single integer answer\n",
    "    return question, answer\n",
    "\n",
    "# Test data generation\n",
    "print(\"Sample problems:\")\n",
    "for _ in range(5):\n",
    "    q, a = generate_addition_data(ndigit)\n",
    "    print(f\"Question: '{q}' -> Answer: {a}\")"
   ]
  },
  {
   "cell_type": "markdown",
   "metadata": {},
   "source": [
    "### 3.3 Dataset Class"
   ]
  },
  {
   "cell_type": "code",
   "execution_count": 6,
   "metadata": {},
   "outputs": [
    {
     "name": "stdout",
     "output_type": "stream",
     "text": [
      "Maximum question length: 6\n",
      "----------------------------------------------------------------------------------------------------\n",
      "Sample question: '86+94='\n",
      "Sample answer: '180'\n",
      "----------------------------------------------------------------------------------------------------\n",
      "Sample question: '69+11='\n",
      "Sample answer: '80'\n",
      "----------------------------------------------------------------------------------------------------\n",
      "Sample question: '75+54='\n",
      "Sample answer: '129'\n",
      "----------------------------------------------------------------------------------------------------\n",
      "Sample question: '4+3=  '\n",
      "Sample answer: '7'\n",
      "----------------------------------------------------------------------------------------------------\n",
      "Sample question: '11+27='\n",
      "Sample answer: '38'\n"
     ]
    }
   ],
   "source": [
    "# Recall the training would be done in batches. However, the question length can not be the same for each batch.\n",
    "# E.g., the question \"2+3=\" is 4 characters, but the question \"99+99=\" is 6 characters.\n",
    "# So we need to pad the question to the same length for each batch.\n",
    "# This is like what we do to fill the missing values in SKlearn.\n",
    "\n",
    "# Calculate maximum question length for padding. The maximum question length is like the block_size in the nanoGPT tutorial.\n",
    "max_question_length = ndigit + 1 + ndigit + 1  # a + \"+\" + b + \"=\"\n",
    "print(f\"Maximum question length: {max_question_length}\")\n",
    "\n",
    "def get_batch():\n",
    "    \"\"\"\n",
    "    Generate a batch of padded addition problems. \n",
    "    \"\"\"\n",
    "    questions = []\n",
    "    answers = []\n",
    "    for _ in range(batch_size):\n",
    "        # Generate a new addition problem\n",
    "        q_str, ans_int = generate_addition_data(ndigit)\n",
    "        \n",
    "        # Pad and encode the question\n",
    "        # ljust(max_question_length): pad the question to the left with spaces to make it the same length as the maximum question length\n",
    "        # This is like what we do to fill the missing values in the dataset.\n",
    "        padded_q = q_str.ljust(max_question_length)\n",
    "        encoded_q = encode_input(padded_q)\n",
    "        \n",
    "        questions.append(encoded_q)\n",
    "        answers.append(ans_int)\n",
    "    \n",
    "    # Convert lists to tensors and move to the correct device\n",
    "    x = torch.tensor(questions, dtype=torch.long, device=device)\n",
    "    y = torch.tensor(answers, dtype=torch.long, device=device)\n",
    "\n",
    "    return x, y \n",
    "\n",
    "# Sample the first question and answer in the batch\n",
    "x,y = get_batch()\n",
    "for i in range(5):\n",
    "    print('-'*100)\n",
    "    print(f\"Sample question: '{decode_input(x[i].tolist())}'\")\n",
    "    print(f\"Sample answer: '{y[i]}'\")\n",
    "    \n"
   ]
  },
  {
   "cell_type": "markdown",
   "metadata": {},
   "source": [
    "#### Explanation: Padding Input Sequences\n",
    "\n",
    "Transformer models, like the GPT-2 architecture we're using as a base, are designed to process sequences of a fixed length. However, our input questions (e.g., \"1+2=\", \"10+5=\", \"99+99=\") can have varying lengths.\n",
    "\n",
    "**Why Padding?**\n",
    "1.  **Batch Processing:** To train neural networks efficiently, we feed data in batches. All sequences within a single batch must have the same length so they can be processed in parallel by the GPU or CPU.\n",
    "2.  **Fixed-Size Model Input:** The transformer architecture itself expects inputs of a predefined maximum sequence length (`n_positions` in `GPT2Config`, which we set to `max_question_length`).\n",
    "\n",
    "This is just like in Sklearn, when we want to use rows with missing value, we need to first fill these missing values to make every row has the same length.\n",
    "\n",
    "**How Padding Works:**\n",
    "1.  **Determine `max_question_length`:** We first calculate the maximum possible length an input question can have. For `ndigit=2`, the longest question is \"99+99=\" (6 characters). This becomes our `max_question_length`.\n",
    "2.  **Add a Padding Token:** We add a special padding character to our input vocabulary (in this case, a space ' ').\n",
    "3.  **Pad Shorter Sequences:** Any question shorter than `max_question_length` is padded with this special character (usually at the end) until it reaches the `max_question_length`.\n",
    "    - \"2+3=\" (length 4) with `max_question_length=6` becomes \"2+3=  \" (length 6).\n",
    "    - The `ljust(max_question_len)` method handles this.\n",
    "\n",
    "**(Optional) Attention Mechanism and Padding:**\n",
    "While the input sequences are padded, the transformer's attention mechanism can be designed (often through an attention mask) to ignore these padding tokens during computation. This ensures that the padding doesn't negatively influence the learning process. For this specific `GPT2Model` from Hugging Face, it typically handles attention masking internally based on standard padding token IDs or by allowing explicit attention masks. In our simplified setup, the model will still \"see\" the padding tokens, but their embeddings will be learned like any other token. The key is that the *structure* of the input is now uniform across the batch.\n",
    "\n",
    "This padding ensures that all input tensors passed to the model have a consistent shape, which is essential for the underlying computations and batching."
   ]
  },
  {
   "cell_type": "markdown",
   "metadata": {},
   "source": [
    "## 4. Model Definition\n",
    "\n",
    "We'll use GPT2Model (without the language modeling head) and add our own classification head."
   ]
  },
  {
   "cell_type": "code",
   "execution_count": 7,
   "metadata": {},
   "outputs": [
    {
     "name": "stdout",
     "output_type": "stream",
     "text": [
      "0.82 M parameters\n"
     ]
    }
   ],
   "source": [
    "class AdditionClassifier(nn.Module): #This is a class that inherits from the nn.Module class in PyTorch. \n",
    "    #Basicly it tells Python that this is a neural network model and can be used to train and test with commands in PyTorch.\n",
    "    \"\"\"Transformer model for addition classification.\"\"\"\n",
    "    \n",
    "    def __init__(self, input_vocab_size, num_classes, max_seq_len, n_embd, n_layer, n_head, dropout):\n",
    "        super().__init__()\n",
    "        #the __init__ needs to define the architecture and parameters of the model.\n",
    "        \n",
    "        # GPT2 configuration for training the model from scratch\n",
    "        config = GPT2Config(\n",
    "            vocab_size=input_vocab_size,\n",
    "            n_positions=max_seq_len,\n",
    "            n_embd=n_embd,\n",
    "            n_layer=n_layer,\n",
    "            n_head=n_head,\n",
    "            resid_pdrop=dropout,\n",
    "            embd_pdrop=dropout,\n",
    "            attn_pdrop=dropout,\n",
    "            bos_token_id=None,\n",
    "            eos_token_id=None\n",
    "        )\n",
    "        \n",
    "        # Use GPT2Model (without language modeling/LM head) as a feature extractor. \n",
    "        #We can think this transformer/GPT2Model is a feature extractor, and its output is a feature vector of the input. \n",
    "        #These features would contain some information about the input, just like embeddings in the Word2vec/Net2vec.   \n",
    "        self.transformer = GPT2Model(config)\n",
    "        \n",
    "        # Classification head is a linear layer that maps the feature vector to the logits of the answer.\n",
    "        # Indeed we are just applying multinomial logistic regression to the feature vector from the transformer.\n",
    "        self.classifier = nn.Linear(n_embd, num_classes)\n",
    "     \n",
    "        \n",
    "    def forward(self, input_ids, labels=None):\n",
    "        # The forward function is to compute the loss and the logits from the input. (Get the prediction.)\n",
    "\n",
    "\n",
    "        # Get transformer outputs (the feature vector of the input)\n",
    "        transformer_outputs = self.transformer(input_ids)\n",
    "        feature_vector = transformer_outputs.last_hidden_state[:, -1, :]  # We get the last hidden state of the transformer as our feature vector.\n",
    " \n",
    "        \n",
    "        # Apply classification head/run the multinomial logistic regression (without softmax) to the feature vector from the transformer.\n",
    "        logits = self.classifier(feature_vector)  \n",
    "        \n",
    "        loss = None\n",
    "        if labels is not None:\n",
    "            loss_fn = nn.CrossEntropyLoss() #This is the loss function for the multinomial logistic regression, and the softmax is included in the loss function.\n",
    "            loss = loss_fn(logits, labels)\n",
    "        \n",
    "        return {'loss': loss, 'logits': logits} #we define the output of the model as a dictionary, which contains the loss and the logits.\n",
    "\n",
    "# Create model\n",
    "model = AdditionClassifier(\n",
    "    input_vocab_size=input_vocab_size,\n",
    "    num_classes=num_answer_classes,\n",
    "    max_seq_len=max_question_length,\n",
    "    n_embd=n_embd,\n",
    "    n_layer=n_layer,\n",
    "    n_head=n_head,\n",
    "    dropout=dropout\n",
    ")\n",
    "\n",
    "model.to(device)\n",
    "print(f\"{sum(p.numel() for p in model.parameters())/1e6:.2f} M parameters\")"
   ]
  },
  {
   "cell_type": "markdown",
   "metadata": {},
   "source": [
    "#### Explanation: Custom Classification Head\n",
    "\n",
    "The standard GPT-2 model from the `transformers` library, when used as `GPT2LMHeadModel`, is designed for **language modeling**. This means its primary goal is to predict the next token in a sequence, autoregressively. It has a \"language modeling head\" which is essentially a linear layer that maps the transformer's output hidden states to logits over the entire vocabulary (to predict the next word/character).\n",
    "\n",
    "**Our Task is Different:**\n",
    "In this tutorial, we are not performing traditional language modeling. Our task is **many-to-one classification**:\n",
    "-   **Input (Many):** A sequence of characters representing an addition problem (e.g., \"23+45=\").\n",
    "-   **Output (One):** A single class label representing the numerical answer (e.g., class 68).\n",
    "\n",
    "**Why `GPT2Model` + Custom Head?**\n",
    "\n",
    "1.  **Leveraging Transformer Power:** We still want to use the powerful sequence processing capabilities of the transformer architecture (self-attention, positional encodings, etc.) to understand the input question \"23+45=\". `GPT2Model` provides the core transformer blocks (embedding layer, multiple transformer layers) without the final language modeling layer.\n",
    "\n",
    "2.  **Tailoring to Classification:**\n",
    "    -   The output of `GPT2Model` is a sequence of hidden states, one for each input token. For our classification task, we are particularly interested in the information aggregated by the transformer over the entire sequence. A common strategy is to use the hidden state of the *last* token (or a special `[CLS]` token if one were used, or an aggregation like pooling). In our case, we use the hidden state corresponding to the final input token (which is often the '=' sign or a padding token if the actual question is shorter).\n",
    "    -   This chosen hidden state (a vector of size `n_embd`) is then fed into our custom **classification head**.\n",
    "\n",
    "3.  **The `self.classifier`:**\n",
    "    Our classification head is a simple `nn.Linear` layer: `self.classifier = nn.Linear(n_embd, num_classes)`.\n",
    "    -   It takes the `n_embd`-dimensional feature vector from the transformer.\n",
    "    -   It projects this vector into a `num_classes`-dimensional space. Each dimension in this output corresponds to one of the possible numerical answers (from 0 to `max_answer`).\n",
    "    -   The output of this linear layer are the **logits** for our classification task. Applying a softmax function to these logits gives the probabilities for each possible answer class.\n",
    "\n",
    "In summary, we use `GPT2Model` as a powerful feature extractor for our input sequence and then add a simple linear layer (`self.classifier`) on top to perform the final classification into one of the `num_answer_classes`. This adapts the general-purpose transformer architecture to our specific arithmetic task."
   ]
  },
  {
   "cell_type": "markdown",
   "metadata": {},
   "source": [
    "## 5. Training"
   ]
  },
  {
   "cell_type": "code",
   "execution_count": 8,
   "metadata": {},
   "outputs": [],
   "source": [
    "# Optimizer. We use AdamW as the optimizer like nanoGPT.\n",
    "optimizer = torch.optim.AdamW(model.parameters(), lr=learning_rate)\n",
    "\n",
    "@torch.no_grad()\n",
    "def estimate_loss():\n",
    "    out = {}\n",
    "    model.eval()\n",
    "    for split in ['train', 'val']:\n",
    "        losses = []\n",
    "        accuracies = []\n",
    "        for _ in range(eval_iters):\n",
    "            # Generate a batch of data\n",
    "            X, Y = get_batch()\n",
    "            \n",
    "            outputs = model(X, labels=Y)\n",
    "            loss = outputs['loss']\n",
    "            logits = outputs['logits']\n",
    "            \n",
    "            losses.append(loss.item())\n",
    "            \n",
    "            # Calculate accuracy\n",
    "            predictions = torch.argmax(logits, dim=-1)\n",
    "            accuracy = (predictions == Y).float().mean().item()\n",
    "            accuracies.append(accuracy)\n",
    "            \n",
    "        out[split + '_loss'] = np.mean(losses)\n",
    "        out[split + '_acc'] = np.mean(accuracies)\n",
    "    model.train()\n",
    "    return out"
   ]
  },
  {
   "cell_type": "code",
   "execution_count": 9,
   "metadata": {},
   "outputs": [
    {
     "name": "stdout",
     "output_type": "stream",
     "text": [
      "Training on cpu...\n",
      "step 0: train loss 5.5264, train acc 0.0063, val loss 5.5268, val acc 0.0069\n",
      "step 250: train loss 3.8002, train acc 0.0509, val loss 3.7940, val acc 0.0493\n",
      "step 500: train loss 3.4174, train acc 0.0659, val loss 3.4177, val acc 0.0642\n",
      "step 750: train loss 3.1778, train acc 0.0841, val loss 3.1719, val acc 0.0823\n",
      "step 1000: train loss 2.9834, train acc 0.1010, val loss 2.9765, val acc 0.1053\n",
      "step 1250: train loss 2.8332, train acc 0.1088, val loss 2.8277, val acc 0.1145\n",
      "step 1500: train loss 2.6516, train acc 0.1446, val loss 2.6534, val acc 0.1427\n",
      "step 1750: train loss 2.4139, train acc 0.2033, val loss 2.4199, val acc 0.1989\n",
      "step 2000: train loss 1.6901, train acc 0.4544, val loss 1.6861, val acc 0.4588\n",
      "step 2250: train loss 1.3634, train acc 0.5609, val loss 1.3564, val acc 0.5631\n",
      "step 2500: train loss 1.0856, train acc 0.6967, val loss 1.0966, val acc 0.6970\n",
      "step 2750: train loss 0.7378, train acc 0.8196, val loss 0.7383, val acc 0.8177\n",
      "step 3000: train loss 0.5523, train acc 0.8793, val loss 0.5467, val acc 0.8810\n",
      "step 3250: train loss 0.3128, train acc 0.9582, val loss 0.3164, val acc 0.9586\n",
      "step 3500: train loss 0.2123, train acc 0.9719, val loss 0.2141, val acc 0.9702\n",
      "step 3750: train loss 0.1787, train acc 0.9716, val loss 0.1793, val acc 0.9703\n",
      "step 4000: train loss 0.1335, train acc 0.9844, val loss 0.1464, val acc 0.9799\n",
      "step 4250: train loss 0.2296, train acc 0.9617, val loss 0.2271, val acc 0.9591\n",
      "step 4500: train loss 0.4049, train acc 0.9357, val loss 0.3848, val acc 0.9397\n",
      "step 4750: train loss 0.1220, train acc 0.9749, val loss 0.1239, val acc 0.9763\n",
      "step 4999: train loss 0.1017, train acc 0.9833, val loss 0.1026, val acc 0.9828\n"
     ]
    }
   ],
   "source": [
    "# Training loop\n",
    "print(f\"Training on {device}...\")\n",
    "\n",
    "for iter_num in range(max_iters):\n",
    "    # Evaluation part\n",
    "    if iter_num % eval_interval == 0 or iter_num == max_iters - 1:\n",
    "        losses = estimate_loss()\n",
    "        print(f\"step {iter_num}: train loss {losses.get('train_loss', float('nan')):.4f}, train acc {losses.get('train_acc', float('nan')):.4f}, val loss {losses.get('val_loss', float('nan')):.4f}, val acc {losses.get('val_acc', float('nan')):.4f}\")\n",
    "\n",
    "    # Training part\n",
    "\n",
    "    # 1. Get a batch of data\n",
    "    questions, answers = get_batch()\n",
    "\n",
    "    # 2. Forward pass\n",
    "    outputs = model(questions, labels=answers)\n",
    "    \n",
    "    # 3. Calculate loss\n",
    "    loss = outputs['loss']\n",
    "\n",
    "    # 4 and 5. Backward pass and update parameters\n",
    "    optimizer.zero_grad(set_to_none=True)\n",
    "    loss.backward()\n",
    "    optimizer.step()\n"
   ]
  },
  {
   "cell_type": "markdown",
   "metadata": {},
   "source": [
    "## 6. Testing and Evaluation"
   ]
  },
  {
   "cell_type": "code",
   "execution_count": 10,
   "metadata": {},
   "outputs": [
    {
     "name": "stdout",
     "output_type": "stream",
     "text": [
      "--- Testing model on 30 examples (up to 2-digit numbers) ---\n",
      "Problem  1: 69+67=136 -> Model predicted: 136 -> CORRECT\n",
      "Problem  2: 87+27=114 -> Model predicted: 114 -> CORRECT\n",
      "Problem  3: 29+26=55 -> Model predicted: 55 -> CORRECT\n",
      "Problem  4: 10+15=25 -> Model predicted: 25 -> CORRECT\n",
      "Problem  5: 97+26=123 -> Model predicted: 123 -> CORRECT\n",
      "Problem  6: 22+63=85 -> Model predicted: 85 -> CORRECT\n",
      "Problem  7: 21+86=107 -> Model predicted: 107 -> CORRECT\n",
      "Problem  8: 5+60=65 -> Model predicted: 65 -> CORRECT\n",
      "Problem  9: 22+91=113 -> Model predicted: 113 -> CORRECT\n",
      "Problem 10: 76+43=119 -> Model predicted: 119 -> CORRECT\n",
      "Problem 11: 23+26=49 -> Model predicted: 49 -> CORRECT\n",
      "Problem 12: 1+99=100 -> Model predicted: 100 -> CORRECT\n",
      "Problem 13: 89+3=92 -> Model predicted: 92 -> CORRECT\n",
      "Problem 14: 93+71=164 -> Model predicted: 174 -> INCORRECT\n",
      "Problem 15: 22+88=110 -> Model predicted: 110 -> CORRECT\n",
      "Problem 16: 46+42=88 -> Model predicted: 88 -> CORRECT\n",
      "Problem 17: 93+91=184 -> Model predicted: 184 -> CORRECT\n",
      "Problem 18: 86+75=161 -> Model predicted: 161 -> CORRECT\n",
      "Problem 19: 54+56=110 -> Model predicted: 110 -> CORRECT\n",
      "Problem 20: 44+84=128 -> Model predicted: 128 -> CORRECT\n",
      "Problem 21: 27+46=73 -> Model predicted: 73 -> CORRECT\n",
      "Problem 22: 93+48=141 -> Model predicted: 141 -> CORRECT\n",
      "Problem 23: 28+2=30 -> Model predicted: 30 -> CORRECT\n",
      "Problem 24: 72+62=134 -> Model predicted: 134 -> CORRECT\n",
      "Problem 25: 44+22=66 -> Model predicted: 66 -> CORRECT\n",
      "Problem 26: 52+59=111 -> Model predicted: 111 -> CORRECT\n",
      "Problem 27: 33+90=123 -> Model predicted: 123 -> CORRECT\n",
      "Problem 28: 94+72=166 -> Model predicted: 166 -> CORRECT\n",
      "Problem 29: 95+48=143 -> Model predicted: 143 -> CORRECT\n",
      "Problem 30: 82+7=89 -> Model predicted: 89 -> CORRECT\n",
      "Accuracy: 96.67% (29/30 correct)\n"
     ]
    }
   ],
   "source": [
    "def test_model_addition(num_tests=20, num_digits_test=ndigit):\n",
    "    print(f\"--- Testing model on {num_tests} examples (up to {num_digits_test}-digit numbers) ---\")\n",
    "    model.eval()\n",
    "    correct_predictions = 0\n",
    "    with torch.no_grad():\n",
    "        for i in range(num_tests):\n",
    "            # Generate test problem\n",
    "            a = random.randint(0, 10**num_digits_test - 1)\n",
    "            b = random.randint(0, 10**num_digits_test - 1)\n",
    "            correct_answer = a + b\n",
    "            question = f\"{a}+{b}=\"\n",
    "            \n",
    "            # Pad and encode question\n",
    "            padded_question = question.ljust(max_question_length)\n",
    "            encoded_question = torch.tensor(encode_input(padded_question), dtype=torch.long, device=device).unsqueeze(0) #unsqueeze(0): add a dimension at the beginning of the tensor to match the format of the training data\n",
    "            \n",
    "            # Get model prediction\n",
    "            \n",
    "            outputs = model(encoded_question)\n",
    "            logits = outputs['logits']\n",
    "            predicted_answer = torch.argmax(logits, dim=-1).item()\n",
    "            \n",
    "            is_correct = (predicted_answer == correct_answer)\n",
    "            if is_correct:\n",
    "                correct_predictions += 1\n",
    "                status = \"CORRECT\"\n",
    "            else:\n",
    "                status = \"INCORRECT\"\n",
    "            \n",
    "            print(f\"Problem {i+1:2d}: {question}{correct_answer} -> Model predicted: {predicted_answer} -> {status}\")\n",
    "    \n",
    "    accuracy = (correct_predictions / num_tests) * 100\n",
    "    print(f\"Accuracy: {accuracy:.2f}% ({correct_predictions}/{num_tests} correct)\")\n",
    "    \n",
    "    model.train()\n",
    "\n",
    "# Run test\n",
    "test_model_addition(num_tests=30, num_digits_test=ndigit)"
   ]
  },
  {
   "cell_type": "markdown",
   "metadata": {},
   "source": [
    "### (Optional) Interactive Testing"
   ]
  },
  {
   "cell_type": "code",
   "execution_count": 11,
   "metadata": {},
   "outputs": [
    {
     "name": "stdout",
     "output_type": "stream",
     "text": [
      "=== Interactive Testing ===\n",
      "Question: 2+3=\n",
      "Predicted answer: 5\n",
      "Top 3 predictions:\n",
      "  5: 0.265\n",
      "  4: 0.182\n",
      "  6: 0.144\n",
      "\n",
      "Question: 5+4=\n",
      "Predicted answer: 11\n",
      "Top 3 predictions:\n",
      "  11: 0.444\n",
      "  8: 0.236\n",
      "  9: 0.077\n",
      "\n",
      "Question: 9+9=\n",
      "Predicted answer: 17\n",
      "Top 3 predictions:\n",
      "  17: 0.734\n",
      "  16: 0.122\n",
      "  13: 0.030\n"
     ]
    },
    {
     "data": {
      "text/plain": [
       "17"
      ]
     },
     "execution_count": 11,
     "metadata": {},
     "output_type": "execute_result"
    }
   ],
   "source": [
    "def ask_adder(problem_input):\n",
    "    \"\"\"Ask the model to solve an addition problem.\"\"\"\n",
    "    model.eval()\n",
    "    \n",
    "    # Ensure input ends with '='\n",
    "    if not problem_input.endswith('='):\n",
    "        question = problem_input + '='\n",
    "    else:\n",
    "        question = problem_input\n",
    "    \n",
    "    # Pad and encode\n",
    "    padded_question = question.ljust(max_question_length)\n",
    "    encoded_question = torch.tensor(encode_input(padded_question), dtype=torch.long, device=device).unsqueeze(0)\n",
    "    \n",
    "    # Get prediction\n",
    "    with torch.no_grad():\n",
    "        outputs = model(encoded_question)\n",
    "        logits = outputs['logits']\n",
    "        predicted_answer = torch.argmax(logits, dim=-1).item()\n",
    "        \n",
    "        # Also get top-3 predictions with probabilities\n",
    "        probs = F.softmax(logits, dim=-1)\n",
    "        top_probs, top_indices = torch.topk(probs, k=3, dim=-1)\n",
    "        \n",
    "    model.train()\n",
    "    \n",
    "    print(f\"Question: {question}\")\n",
    "    print(f\"Predicted answer: {predicted_answer}\")\n",
    "    print(\"Top 3 predictions:\")\n",
    "    for i in range(3):\n",
    "        ans = top_indices[0][i].item()\n",
    "        prob = top_probs[0][i].item()\n",
    "        print(f\"  {ans}: {prob:.3f}\")\n",
    "    \n",
    "    return predicted_answer\n",
    "\n",
    "# Test examples\n",
    "print(\"=== Interactive Testing ===\")\n",
    "ask_adder('2+3')\n",
    "print()\n",
    "ask_adder('5+4')\n",
    "print()\n",
    "ask_adder('9+9')"
   ]
  }
 ],
 "metadata": {
  "kernelspec": {
   "display_name": "GenAI",
   "language": "python",
   "name": "python3"
  },
  "language_info": {
   "codemirror_mode": {
    "name": "ipython",
    "version": 3
   },
   "file_extension": ".py",
   "mimetype": "text/x-python",
   "name": "python",
   "nbconvert_exporter": "python",
   "pygments_lexer": "ipython3",
   "version": "3.11.12"
  }
 },
 "nbformat": 4,
 "nbformat_minor": 2
}
